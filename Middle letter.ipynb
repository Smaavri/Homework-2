{
 "cells": [
  {
   "cell_type": "code",
   "execution_count": 1,
   "id": "d7c38ab6-7012-4d6f-98d4-87259b203307",
   "metadata": {
    "tags": []
   },
   "outputs": [
    {
     "name": "stdout",
     "output_type": "stream",
     "text": [
      "Введите слово:\n"
     ]
    },
    {
     "name": "stdin",
     "output_type": "stream",
     "text": [
      " testing\n"
     ]
    },
    {
     "name": "stdout",
     "output_type": "stream",
     "text": [
      "t\n"
     ]
    }
   ],
   "source": [
    "print(\"Введите слово:\")\n",
    "word = input()\n",
    "list(word)\n",
    "if len(word) % 2 == 0:\n",
    "    a = len(word) / 2\n",
    "    print (a)\n",
    "    print (word[int(a)-1:int(a)+1])\n",
    "if len(word) % 2 == 1:\n",
    "    a = len(word) / 2\n",
    "    print(word[int(a)])"
   ]
  },
  {
   "cell_type": "code",
   "execution_count": null,
   "id": "371cb9d7-69bb-437d-8e81-90db1023c032",
   "metadata": {
    "tags": []
   },
   "outputs": [],
   "source": []
  },
  {
   "cell_type": "code",
   "execution_count": null,
   "id": "649a73cd-e1c8-46c9-abf0-ba8f9307204f",
   "metadata": {},
   "outputs": [],
   "source": []
  }
 ],
 "metadata": {
  "kernelspec": {
   "display_name": "Python 3",
   "language": "python",
   "name": "python3"
  },
  "language_info": {
   "codemirror_mode": {
    "name": "ipython",
    "version": 3
   },
   "file_extension": ".py",
   "mimetype": "text/x-python",
   "name": "python",
   "nbconvert_exporter": "python",
   "pygments_lexer": "ipython3",
   "version": "3.7.2"
  }
 },
 "nbformat": 4,
 "nbformat_minor": 5
}
