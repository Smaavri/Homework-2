{
 "cells": [
  {
   "cell_type": "code",
   "execution_count": 4,
   "id": "8299fede-2c58-4768-b13e-05ad80f4dc63",
   "metadata": {
    "tags": []
   },
   "outputs": [
    {
     "name": "stdin",
     "output_type": "stream",
     "text": [
      " 1\n"
     ]
    },
    {
     "name": "stdout",
     "output_type": "stream",
     "text": [
      "Результат:\n",
      "Внимание, кто-то может остаться без пары.\n"
     ]
    }
   ],
   "source": [
    "#Для первого варианта задания введите 0\n",
    "#Для второго варианта задания введите 1\n",
    "option = int(input())\n",
    "if option == 0:\n",
    "    boys = ['Peter', 'Alex', 'John', 'Arthur', 'Richard']\n",
    "elif option == 1:\n",
    "    boys = ['Peter', 'Alex', 'John', 'Arthur', 'Richard', 'Michael']\n",
    "girls = ['Kate', 'Liza', 'Kira', 'Emma', 'Trisha']\n",
    "boys.sort()\n",
    "girls.sort()\n",
    "print(\"Результат:\")\n",
    "if len(boys) == len(girls):\n",
    "    print(\"Идеальные пары:\")\n",
    "    n = 0\n",
    "    m = 0\n",
    "    while n < len(boys) and m < len(girls):\n",
    "        print(f\"{str(boys[n])} и {str(girls[m])}\")\n",
    "        n += 1\n",
    "        m += 1\n",
    "elif len(boys) != len(girls):\n",
    "    print(\"Внимание, кто-то может остаться без пары.\")"
   ]
  },
  {
   "cell_type": "code",
   "execution_count": null,
   "id": "dce11bc6-a596-419b-b735-9452ca99b77a",
   "metadata": {},
   "outputs": [],
   "source": []
  }
 ],
 "metadata": {
  "kernelspec": {
   "display_name": "Python 3",
   "language": "python",
   "name": "python3"
  },
  "language_info": {
   "codemirror_mode": {
    "name": "ipython",
    "version": 3
   },
   "file_extension": ".py",
   "mimetype": "text/x-python",
   "name": "python",
   "nbconvert_exporter": "python",
   "pygments_lexer": "ipython3",
   "version": "3.7.2"
  }
 },
 "nbformat": 4,
 "nbformat_minor": 5
}
